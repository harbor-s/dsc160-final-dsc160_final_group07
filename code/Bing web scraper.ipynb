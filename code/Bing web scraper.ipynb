{
 "cells": [
  {
   "cell_type": "code",
   "execution_count": 28,
   "metadata": {},
   "outputs": [
    {
     "name": "stdout",
     "output_type": "stream",
     "text": [
      "Requirement already satisfied: selenium in /home/ksunil/.local/lib/python3.6/site-packages (3.141.0)\r\n",
      "Requirement already satisfied: urllib3 in /opt/conda/lib/python3.6/site-packages (from selenium) (1.24.1)\r\n"
     ]
    }
   ],
   "source": [
    "!pip install selenium --user"
   ]
  },
  {
   "cell_type": "code",
   "execution_count": 21,
   "metadata": {},
   "outputs": [
    {
     "name": "stdout",
     "output_type": "stream",
     "text": [
      "Requirement already satisfied: Pillow in /opt/conda/lib/python3.6/site-packages (5.3.0)\r\n"
     ]
    }
   ],
   "source": [
    "!pip install Pillow --user"
   ]
  },
  {
   "cell_type": "code",
   "execution_count": 24,
   "metadata": {},
   "outputs": [
    {
     "name": "stdout",
     "output_type": "stream",
     "text": [
      "Requirement already satisfied: bingscraper in /home/ksunil/.local/lib/python3.6/site-packages (3.0)\r\n"
     ]
    }
   ],
   "source": [
    "!pip install bingscraper --user"
   ]
  },
  {
   "cell_type": "code",
   "execution_count": 1,
   "metadata": {},
   "outputs": [],
   "source": [
    "import selenium \n",
    "import PIL\n",
    "import os"
   ]
  },
  {
   "cell_type": "code",
   "execution_count": 2,
   "metadata": {},
   "outputs": [],
   "source": [
    "import bingscraper as bs"
   ]
  },
  {
   "cell_type": "code",
   "execution_count": 3,
   "metadata": {},
   "outputs": [],
   "source": [
    "def get_images(query):\n",
    "    if not os.path.exists('data'):\n",
    "        os.mkdir('data')\n",
    "    cwd = os.getcwd()\n",
    "    os.chdir('data')\n",
    "    bs.scrape(query).image()\n",
    "    os.chdir(cwd)"
   ]
  },
  {
   "cell_type": "code",
   "execution_count": 4,
   "metadata": {},
   "outputs": [],
   "source": [
    "def scrape_artists(lst):\n",
    "    for l in lst:\n",
    "        print(l)\n",
    "        get_images(l)"
   ]
  },
  {
   "cell_type": "code",
   "execution_count": 5,
   "metadata": {},
   "outputs": [
    {
     "name": "stdout",
     "output_type": "stream",
     "text": [
      "Claude Monet\n",
      "Downloading:  https://mfas3.s3.amazonaws.com/objects/SC382623.jpg\n",
      "Downloading:  https://collectionapi.metmuseum.org/api/collection/v1/iiif/437135/796569/restricted\n",
      "Downloading:  https://www.claudemonetgallery.org/thumbnail/216000/216781/mini_large/Dieppe.jpg?ts=1459229076\n",
      "Downloading:  https://upload.wikimedia.org/wikipedia/commons/thumb/6/6c/Claude_monet%2C_la_gare_saint-lazare%2C_1877%2C_02.JPG/640px-Claude_monet%2C_la_gare_saint-lazare%2C_1877%2C_02.JPG\n",
      "Downloading:  https://farm4.staticflickr.com/3662/3427108929_bc12e469e4_z.jpg\n",
      "Downloading:  http://i1.ytimg.com/vi/rVNakLfaimw/maxresdefault.jpg\n",
      "Downloading:  https://upload.wikimedia.org/wikipedia/commons/8/8f/Ochard-Italienne.jpg\n",
      "Downloading:  https://www.claudemonetgallery.org/thumbnail/98000/98634/mini_small/Lady-With-A-Parasol.jpg?ts=1459229076\n",
      "Downloading:  http://www.chinese-china.net/zh/swsy/sl/img/ma/mo07.jpg\n",
      "Downloading:  http://www.wzsky.net/imgall/img2017/20170715/0944343.jpg\n",
      "Downloading:  https://upload.wikimedia.org/wikipedia/commons/thumb/3/30/La_Manneporte-Etretat-Normandie.jpg/1200px-La_Manneporte-Etretat-Normandie.jpg\n",
      "Downloading:  https://img.izismile.com/img/img12/20190325/640/ukrainian_artist_masterfully_uses_optical_illusions_to_draw_famous_people_of_the_past_640_high_24.jpg\n",
      "Downloading:  https://www.artehistoria.com/sites/default/files/imagenobra/MOA02166.jpg\n",
      "Vincent van Gogh\n",
      "Downloading:  https://upload.wikimedia.org/wikipedia/commons/thumb/0/0e/The_Road_Menders%2C_Vincent_Van_Gogh%2C_1890_-_Phillips_Collection_-_DSC04752.JPG/1280px-The_Road_Menders%2C_Vincent_Van_Gogh%2C_1890_-_Phillips_Collection_-_DSC04752.JPG\n",
      "Downloading:  https://c2.staticflickr.com/2/1267/1389768365_5150384a25_b.jpg\n",
      "Downloading:  https://upload.wikimedia.org/wikipedia/commons/thumb/3/3c/Van_Gogh_-_Frau%2C_neben_einer_Wiege_sitzend.jpeg/777px-Van_Gogh_-_Frau%2C_neben_einer_Wiege_sitzend.jpeg\n",
      "Downloading:  http://biografieonline.it/img/bio/v/Vincent_van_Gogh.jpg\n",
      "Downloading:  https://www.vangoghpaintings.com/paintings/A635, VERMEER, View of Delft, DETAIL 1.jpg\n",
      "Could not Save :'(\n",
      "Downloading:  https://upload.wikimedia.org/wikipedia/commons/5/5f/Anton_Mauve_-_Zelfportret.jpg\n",
      "Downloading:  https://upload.wikimedia.org/wikipedia/commons/thumb/7/7c/Het_kleinste_huis_van_Amsterdam.jpg/261px-Het_kleinste_huis_van_Amsterdam.jpg\n",
      "Downloading:  https://www.designboom.com/wp-content/uploads/2016/04/elmgreen-dragset-van-gogh-ear-rockefeller-center-new-york-designboom-07.jpg\n",
      "Downloading:  http://3.bp.blogspot.com/-oQVZzbr2YNo/T-CBjg4J7pI/AAAAAAAABUI/wnxG8LBiMks/s1600/Pierre+Bonnard,+Le+Chat+blanc.jpg\n",
      "Downloading:  https://emergentartspace.org/assets/853755630-3.-The-Bean-8-8-12-300dpi5696_preview.jpeg\n",
      "Downloading:  https://c1.staticflickr.com/3/2010/2372724450_25caa63796_b.jpg\n",
      "Downloading:  http://ww1.prweb.com/prfiles/2011/10/05/8870758/jnl silver 1.jpg\n",
      "Downloading:  https://www.toile-photo.eu/wp-content/uploads/2011/10/mi128.jpg\n",
      "Pablo Picasso\n",
      "Downloading:  https://c2.staticflickr.com/4/3458/3816618019_9ed76d8149_b.jpg\n",
      "Downloading:  https://collectionapi.metmuseum.org/api/collection/v1/iiif/486753/1009271/restricted\n",
      "Downloading:  http://upload.wikimedia.org/wikipedia/en/thumb/1/1f/Pablo_Picasso%2C_1919%2C_Paysage_(Landscape_with_Dead_and_Live_Trees)%2C_oil_on_canvas%2C_49.4_x_65.4_cm%2C_Bridgestone_Museum_of_Art%2C_Tokio.jpg/798px-Pablo_Picasso%2C_1919%2C_Paysage_(Landscape_with_Dead_and_Live_Trees)%2C_oil_on_canvas%2C_49.4_x_65.4_cm%2C_Bridgestone_Museum_of_Art%2C_Tokio.jpg\n",
      "Downloading:  http://i.ytimg.com/vi/ZONg49dyZsg/maxresdefault.jpg\n",
      "Downloading:  http://arts-plastiques.ac-rouen.fr/galerie_virtuelle/pablo_picasso/vanites/vanite_08.jpg\n",
      "Downloading:  https://kids.nationalgeographic.com/content/dam/kids/photos/articles/Other%20Explore%20Photos/R-Z/Wacky%20Weekend/Chocolate%20Creations/ww-chocolate-creations-yoda.adapt.945.1.jpg\n",
      "Downloading:  http://www.biweekly.pl/public/media/article/image_center/1194.jpg\n",
      "Downloading:  https://upload.wikimedia.org/wikipedia/commons/e/ee/Metro_Paris_-_Ligne_11_-_station_Republique.jpg\n",
      "Downloading:  http://cigarmonkeys.com/wp-content/uploads/2018/05/Aubrey-Plaza-HOT-60-nude-selfie-11.jpg\n",
      "Image cannot be requested.\n",
      "Downloading:  https://upload.wikimedia.org/wikipedia/commons/thumb/2/21/Juan_Gris_-_Tasse_et_pipe.jpg/1200px-Juan_Gris_-_Tasse_et_pipe.jpg\n",
      "Downloading:  https://upload.wikimedia.org/wikipedia/commons/thumb/4/43/Logo_transportes_p%C3%BAblicos_de_Andaluc%C3%ADa.jpg/1200px-Logo_transportes_p%C3%BAblicos_de_Andaluc%C3%ADa.jpg\n",
      "Downloading:  https://www.leonardo.it/uploads/sites/12/2014/08/origin_9063562146.jpg\n",
      "Downloading:  https://upload.wikimedia.org/wikipedia/commons/9/94/Elie_Nadelman_01.jpg\n",
      "Leonardo da Vinci\n",
      "Downloading:  https://peaksel.com/wp-content/uploads/2016/09/Da-Vinci-Ultra-HD-iPhone-Screenshot-5.jpg\n",
      "Downloading:  https://live.staticflickr.com/4742/38798662535_a6553f5209_b.jpg\n",
      "Downloading:  https://upload.wikimedia.org/wikipedia/commons/4/45/Codex_on_the_Flight_of_Birds.jpg\n",
      "Downloading:  https://upload.wikimedia.org/wikipedia/commons/thumb/6/6e/LeonardoDaVinci-Tomb.JPG/220px-LeonardoDaVinci-Tomb.JPG\n",
      "Downloading:  http://oekastatic.orf.at/static/images/site/oeka/20130417/ssc_vinci_anatomie.5141460.jpg\n",
      "Downloading:  http://web.tiscalinet.it/smsverdi/londra/images/vergine.jpg\n",
      "Downloading:  http://www.vinci-closluce.com/file/image/aGFuZGxlcj1maWxsJndpZHRoPTgwMA==/helice.png\n",
      "Downloading:  http://img1.gamersky.com/image2011/02/20110222a_4/066.jpg\n",
      "Downloading:  https://upload.wikimedia.org/wikipedia/commons/thumb/e/ef/Abakanowicz_IMG_4565.jpg/220px-Abakanowicz_IMG_4565.jpg\n",
      "Downloading:  http://2.bp.blogspot.com/-OX3WHUy3lQE/T5fw-8Glj9I/AAAAAAAAARI/CdWOpOgto-Q/s1600/gioconda-chocolates-70.jpg\n",
      "Downloading:  http://1.bp.blogspot.com/_8hXaUxW8pp0/SgAvG-wTt7I/AAAAAAAAAyU/5qP7MJZ1vHM/s1600/bodas+de+cana,+louvre\n",
      "Downloading:  https://upload.wikimedia.org/wikipedia/commons/thumb/3/38/Last_Supper_Vank.jpg/400px-Last_Supper_Vank.jpg\n",
      "Downloading:  http://www.catholictradition.org/Annuncia/annuncia22c.jpg\n",
      "Downloading:  http://lettres.ac-rouen.fr/louvre/balzac/images/vinci/vin022.jpg\n",
      "Andy Warhol\n",
      "Downloading:  http://upload.wikimedia.org/wikipedia/commons/thumb/8/8d/James_Warhola.jpg/220px-James_Warhola.jpg\n",
      "Downloading:  https://s3.amazonaws.com/contemporaryartgroup/wp-content/uploads/2009/10/warhol_21.jpg\n",
      "Downloading:  https://www.flavorpaper.com/assets/content/cache/made/7553c662953ebd40add98036d140da2318bb02a9.jpg\n",
      "Downloading:  http://blog.ricecracker.net/wp-content/uploads/2013/01/PAR25807.jpg\n",
      "Downloading:  http://cdn.trendir.com/wp-content/uploads/old/archives/2015/10/18/unusual-tile-elira-sunset.jpg\n",
      "Downloading:  http://artasiapacific.com/image_columns/0003/9664/screen_shot_2012-09-20_at_2.48.32_pm.png\n",
      "Downloading:  https://www.christies.com/LotFinderImages/D45535/D4553567r.jpg\n",
      "Downloading:  https://p1.liveauctioneers.com/1107/45655/20619444_1_x.jpg?version=1380055618&width=512&format=pjpg&auto=webp&quality=50\n",
      "Downloading:  https://upload.wikimedia.org/wikipedia/en/1/1c/Vandal_Gummy_Installation_by_Street_Artist_WhIsBe_in_World_Trade_Center_Tower_4_Lobby.jpg\n",
      "Downloading:  http://www.swaggerninja.com/wp-content/uploads/2012/09/d499f__photo-mosaic-Steve-Jobs2.jpeg\n",
      "Downloading:  https://static.getjar.com/ss/d2/888256_3.png\n",
      "Downloading:  http://quotesblog.net/wp-content/uploads/2015/08/the-nice-thing-about-teamwork-is-that-you-always-have-others-on-your-side-margaret-carty.png\n",
      "Could not Save :'(\n",
      "Downloading:  http://catalogue.drouot.com/images/perso/full/LOT/288/17284/148.jpg\n",
      "Downloading:  https://upload.wikimedia.org/wikipedia/commons/thumb/3/3f/Balerina_Jeff_Koons.jpg/220px-Balerina_Jeff_Koons.jpg\n",
      "Michelangelo\n",
      "Downloading:  http://www.csun.edu/~hcfll004/Jesus-06.jpg\n",
      "Downloading:  https://upload.wikimedia.org/wikipedia/commons/thumb/2/2f/Mosè_Bianchi_-_Mother_Breastfeeding.jpg/220px-Mosè_Bianchi_-_Mother_Breastfeeding.jpg\n",
      "Downloading:  https://upload.wikimedia.org/wikipedia/commons/thumb/4/4f/G._M._Milizio%2C_Cappella_de%27_Cavalieri_a_Santa_Maria_in_Aracoeli1.jpg/1200px-G._M._Milizio%2C_Cappella_de%27_Cavalieri_a_Santa_Maria_in_Aracoeli1.jpg\n",
      "Downloading:  https://upload.wikimedia.org/wikipedia/commons/thumb/e/e6/Mona_Lisa%2C_by_Leonardo_da_Vinci%2C_from_C2RMF_Repaired.jpg/687px-Mona_Lisa%2C_by_Leonardo_da_Vinci%2C_from_C2RMF_Repaired.jpg\n"
     ]
    },
    {
     "name": "stdout",
     "output_type": "stream",
     "text": [
      "Downloading:  http://www.artble.com/imgs/8/d/0/821051/547794.jpg\n",
      "Downloading:  https://www.parlandosparlando.com/wp-content/uploads/2014/05/Giudizio-Universale-di-Michelangelo.jpg\n",
      "Downloading:  https://live.staticflickr.com/8129/29782639415_2379971940_b.jpg\n",
      "Downloading:  https://cdn.pixabay.com/photo/2017/03/20/20/03/mouth-2160197_640.jpg\n",
      "Downloading:  https://www.vvox.it/wp-content/uploads/2015/04/gabbiano-incazzato.jpg\n",
      "Downloading:  https://upload.wikimedia.org/wikipedia/commons/thumb/8/8e/Alessandro_Allori%2C_santissima_trinit%C3%A0%2C_1567-1571_circa%2C_ritratto_dei_maestri%2C_pontormo.jpg/220px-Alessandro_Allori%2C_santissima_trinit%C3%A0%2C_1567-1571_circa%2C_ritratto_dei_maestri%2C_pontormo.jpg\n",
      "Downloading:  https://cdn.pixabay.com/photo/2012/08/22/00/16/abstract-54657_640.jpg\n",
      "Downloading:  https://upload.wikimedia.org/wikipedia/commons/thumb/4/4f/Hercules_Musei_Capitolini_MC1265_n3.jpg/1920px-Hercules_Musei_Capitolini_MC1265_n3.jpg\n",
      "Downloading:  https://www.vvox.it/wp-content/uploads/2017/04/kennyrandom.jpg\n",
      "Downloading:  https://www.vvox.it/wp-content/uploads/2016/07/Il_Piave_a_sud_di_Ponte_della_Priula.jpg\n"
     ]
    }
   ],
   "source": [
    "scrape_artists(['Claude Monet','Vincent van Gogh','Pablo Picasso','Leonardo da Vinci','Andy Warhol','Michelangelo'])"
   ]
  },
  {
   "cell_type": "code",
   "execution_count": null,
   "metadata": {},
   "outputs": [],
   "source": []
  }
 ],
 "metadata": {
  "kernelspec": {
   "display_name": "Python 3",
   "language": "python",
   "name": "python3"
  },
  "language_info": {
   "codemirror_mode": {
    "name": "ipython",
    "version": 3
   },
   "file_extension": ".py",
   "mimetype": "text/x-python",
   "name": "python",
   "nbconvert_exporter": "python",
   "pygments_lexer": "ipython3",
   "version": "3.7.3"
  }
 },
 "nbformat": 4,
 "nbformat_minor": 2
}
